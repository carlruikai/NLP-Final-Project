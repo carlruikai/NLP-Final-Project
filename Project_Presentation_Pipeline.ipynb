{
 "cells": [
  {
   "cell_type": "markdown",
   "metadata": {
    "id": "42vOG01pQ8z4"
   },
   "source": [
    "## NLP Final Presentation: Code Pipeline"
   ]
  },
  {
   "cell_type": "markdown",
   "metadata": {
    "id": "tEZ8YSoFQ8z8"
   },
   "source": [
    "Ruocheng Shan\n",
    "\n",
    "Xuzheng Lu\n",
    "\n",
    "Kai Wang\n",
    "\n",
    "Ruikai Zhou"
   ]
  },
  {
   "cell_type": "code",
   "execution_count": null,
   "metadata": {
    "id": "CrPs4GV8Q8z9"
   },
   "outputs": [],
   "source": [
    "import numpy as np\n",
    "import matplotlib.pyplot as plt\n",
    "from read_data import load_file_conll, load_file_science\n",
    "from CRF.crf_train_conll2000 import sent2features, sent2labels, word2features\n",
    "import joblib\n",
    "from sklearn_crfsuite import metrics\n",
    "import sklearn_crfsuite\n",
    "\n",
    "from BERT.bert_conll2000 import get_bert_test_conll\n",
    "from BERT.bert_scienceEXAM import get_bert_test_sci"
   ]
  },
  {
   "cell_type": "markdown",
   "metadata": {
    "id": "JM7VABfmQ8z_"
   },
   "source": [
    "## 1. Data"
   ]
  },
  {
   "cell_type": "code",
   "execution_count": null,
   "metadata": {
    "id": "EE3JuXzjQ8z_"
   },
   "outputs": [],
   "source": [
    "def get_tag_number(sentence_list):\n",
    "    result = {}\n",
    "    for i in sentence_list:\n",
    "        for j in i:\n",
    "            if j[2] not in result:\n",
    "                result[j[2]] = 1\n",
    "            else:\n",
    "                result[j[2]] += 1\n",
    "    return result"
   ]
  },
  {
   "cell_type": "markdown",
   "metadata": {
    "id": "DkHL6uToQ80A"
   },
   "source": [
    "### 1.1 CoNll-2000"
   ]
  },
  {
   "cell_type": "code",
   "execution_count": null,
   "metadata": {
    "id": "D7BHB90aQ80A"
   },
   "outputs": [],
   "source": [
    "sentence_conll_tr, words_conll_test_tr, pos_tags_conll_tr, ner_tags_conll_tr = load_file_conll(\"train.txt\")\n",
    "sentence_conll_test, words_conll_test, pos_tags_conll_test, ner_tags_conll_test = load_file_conll(\"test.txt\")"
   ]
  },
  {
   "cell_type": "code",
   "execution_count": null,
   "metadata": {
    "id": "c5q9AwAfQ80A"
   },
   "outputs": [],
   "source": [
    "labels_conll = ner_tags_conll_tr.remove(\"O\")"
   ]
  },
  {
   "cell_type": "code",
   "execution_count": null,
   "metadata": {
    "id": "6CH3ef4YQ80A",
    "outputId": "6513e8c2-9aef-4493-ef28-718fd1ec961e"
   },
   "outputs": [
    {
     "data": {
      "text/plain": [
       "[('Confidence', 'NN', 'B-NP'),\n",
       " ('in', 'IN', 'B-PP'),\n",
       " ('the', 'DT', 'B-NP'),\n",
       " ('pound', 'NN', 'I-NP'),\n",
       " ('is', 'VBZ', 'B-VP'),\n",
       " ('widely', 'RB', 'I-VP'),\n",
       " ('expected', 'VBN', 'I-VP'),\n",
       " ('to', 'TO', 'I-VP'),\n",
       " ('take', 'VB', 'I-VP'),\n",
       " ('another', 'DT', 'B-NP'),\n",
       " ('sharp', 'JJ', 'I-NP'),\n",
       " ('dive', 'NN', 'I-NP'),\n",
       " ('if', 'IN', 'B-SBAR'),\n",
       " ('trade', 'NN', 'B-NP'),\n",
       " ('figures', 'NNS', 'I-NP'),\n",
       " ('for', 'IN', 'B-PP'),\n",
       " ('September', 'NNP', 'B-NP'),\n",
       " (',', ',', 'O'),\n",
       " ('due', 'JJ', 'B-ADJP'),\n",
       " ('for', 'IN', 'B-PP'),\n",
       " ('release', 'NN', 'B-NP'),\n",
       " ('tomorrow', 'NN', 'B-NP'),\n",
       " (',', ',', 'O'),\n",
       " ('fail', 'VB', 'B-VP'),\n",
       " ('to', 'TO', 'I-VP'),\n",
       " ('show', 'VB', 'I-VP'),\n",
       " ('a', 'DT', 'B-NP'),\n",
       " ('substantial', 'JJ', 'I-NP'),\n",
       " ('improvement', 'NN', 'I-NP'),\n",
       " ('from', 'IN', 'B-PP'),\n",
       " ('July', 'NNP', 'B-NP'),\n",
       " ('and', 'CC', 'I-NP'),\n",
       " ('August', 'NNP', 'I-NP'),\n",
       " (\"'s\", 'POS', 'B-NP'),\n",
       " ('near-record', 'JJ', 'I-NP'),\n",
       " ('deficits', 'NNS', 'I-NP'),\n",
       " ('.', '.', 'O')]"
      ]
     },
     "execution_count": 106,
     "metadata": {
      "tags": []
     },
     "output_type": "execute_result"
    }
   ],
   "source": [
    "sentence_conll_tr[0]"
   ]
  },
  {
   "cell_type": "markdown",
   "metadata": {
    "id": "J--_uXdCQ80B"
   },
   "source": [
    "#### Token Distribution"
   ]
  },
  {
   "cell_type": "code",
   "execution_count": null,
   "metadata": {
    "id": "fopa3Na_Q80B",
    "outputId": "e17ec3d1-48b1-405c-d654-3ff5d129a144"
   },
   "outputs": [
    {
     "data": {
      "image/png": "[encoded data removed]",
      "text/plain": [
       "<Figure size 720x720 with 1 Axes>"
      ]
     },
     "metadata": {
      "needs_background": "light",
      "tags": []
     },
     "output_type": "display_data"
    }
   ],
   "source": [
    "token_dis_conll = get_tag_number(sentence_conll_tr)\n",
    "token_dis_conll = dict(sorted(token_dis_conll.items(), key=lambda item: item[1], reverse=True))\n",
    "plt.bar(range(len(token_dis_conll)), list(token_dis_conll.values()), align='center')\n",
    "plt.xticks(range(len(token_dis_conll)), list(token_dis_conll.keys()), rotation=90)\n",
    "plt.ylabel('Tag Count')\n",
    "plt.rcParams[\"figure.figsize\"]=10,10\n",
    "plt.show()"
   ]
  },
  {
   "cell_type": "markdown",
   "metadata": {
    "id": "dVVn5RlEQ80B"
   },
   "source": [
    "#### Sentence Length Distribution"
   ]
  },
  {
   "cell_type": "code",
   "execution_count": null,
   "metadata": {
    "id": "0F6Sz2g9Q80B",
    "outputId": "5e6e6b14-3c55-47be-d269-0e9946d986a5"
   },
   "outputs": [
    {
     "data": {
      "image/png": "[encoded data removed]",
      "text/plain": [
       "<Figure size 720x720 with 1 Axes>"
      ]
     },
     "metadata": {
      "needs_background": "light",
      "tags": []
     },
     "output_type": "display_data"
    }
   ],
   "source": [
    "plt.hist([len(s) for s in sentence_conll_tr], bins=50, alpha=0.5)\n",
    "plt.title('Token per sentence')\n",
    "plt.xlabel('Len (number of token)')\n",
    "plt.ylabel('# samples')\n",
    "plt.show()"
   ]
  },
  {
   "cell_type": "markdown",
   "metadata": {
    "id": "ni08Vk4nQ80B"
   },
   "source": [
    "### 1.2 ScienceExam"
   ]
  },
  {
   "cell_type": "code",
   "execution_count": null,
   "metadata": {
    "id": "9_ufpjrIQ80C"
   },
   "outputs": [],
   "source": [
    "sentence_sci_tr, words_sci_test_tr, pos_tags_sci_tr, ner_tags_sci_tr = load_file_science(\"train_spacy.txt\")\n",
    "sentence_sci_test, words_sci_test, pos_tags_sci_test, ner_tags_sci_test = load_file_science(\"test_spacy.txt\")\n",
    "sentence_sci_val, words_sci_val, pos_tags_sci_val, ner_tags_sci_val = load_file_science(\"valid_spacy.txt\")"
   ]
  },
  {
   "cell_type": "code",
   "execution_count": null,
   "metadata": {
    "id": "Ywad9bBFQ80C"
   },
   "outputs": [],
   "source": [
    "labels_sci = ner_tags_sci_tr.remove(\"O\")"
   ]
  },
  {
   "cell_type": "code",
   "execution_count": null,
   "metadata": {
    "id": "tfJgw2WuQ80C",
    "outputId": "ad520a8f-dd31-442d-f188-cb01397292fa"
   },
   "outputs": [
    {
     "data": {
      "text/plain": [
       "[('Which', 'ADJ', 'B-LevelOfInclusion'),\n",
       " ('most', 'ADV', 'B-AmountComparison'),\n",
       " ('accurately', 'ADV', 'B-ProbabilityAndCertainty'),\n",
       " ('describes', 'VERB', 'B-Represent'),\n",
       " ('a', 'DET', 'O'),\n",
       " ('circle', 'NOUN', 'B-Representation'),\n",
       " ('(', 'PUNCT', 'I-Representation'),\n",
       " ('pie', 'NOUN', 'I-Representation'),\n",
       " (')', 'PUNCT', 'I-Representation'),\n",
       " ('graph', 'NOUN', 'I-Representation'),\n",
       " ('?', 'PUNCT', 'O')]"
      ]
     },
     "execution_count": 32,
     "metadata": {
      "tags": []
     },
     "output_type": "execute_result"
    }
   ],
   "source": [
    "sentence_sci_tr[0]"
   ]
  },
  {
   "cell_type": "markdown",
   "metadata": {
    "id": "dsObVEcaQ80C"
   },
   "source": [
    "#### Token Distribution"
   ]
  },
  {
   "cell_type": "code",
   "execution_count": null,
   "metadata": {
    "id": "rQ47aFB4Q80C"
   },
   "outputs": [],
   "source": [
    "token_dis_sci = get_tag_number(sentence_sci_tr)\n",
    "token_dis_sci = dict(sorted(token_dis_sci.items(), key=lambda item: item[1], reverse=True))"
   ]
  },
  {
   "cell_type": "code",
   "execution_count": null,
   "metadata": {
    "id": "mcB5-KORQ80D"
   },
   "outputs": [],
   "source": [
    "first15pairs_dt = {k: token_dis_sci[k] for k in list(token_dis_sci)[:16]}\n",
    "del first15pairs_dt[\"O\"]"
   ]
  },
  {
   "cell_type": "code",
   "execution_count": null,
   "metadata": {
    "id": "uv-_xzKMQ80D",
    "outputId": "585eef49-7efb-49b1-8d54-a1bf121cafb9"
   },
   "outputs": [
    {
     "data": {
      "image/png": "[encoded data removed]",
      "text/plain": [
       "<Figure size 720x720 with 1 Axes>"
      ]
     },
     "metadata": {
      "needs_background": "light",
      "tags": []
     },
     "output_type": "display_data"
    }
   ],
   "source": [
    "plt.bar(range(len(first15pairs_dt)), list(first15pairs_dt.values()), align='center')\n",
    "plt.xticks(range(len(first15pairs_dt)), list(first15pairs_dt.keys()), rotation=90)\n",
    "plt.ylabel('Tag Count')\n",
    "plt.show()"
   ]
  },
  {
   "cell_type": "markdown",
   "metadata": {
    "id": "LsQ_SCV9Q80D"
   },
   "source": [
    "#### Sentence Length Distribution"
   ]
  },
  {
   "cell_type": "code",
   "execution_count": null,
   "metadata": {
    "id": "hxvoqIM0Q80D",
    "outputId": "72da3d64-6931-46dd-ab8a-4c66d6f30922"
   },
   "outputs": [
    {
     "data": {
      "image/png": "[encoded data removed]",
      "text/plain": [
       "<Figure size 720x720 with 1 Axes>"
      ]
     },
     "metadata": {
      "needs_background": "light",
      "tags": []
     },
     "output_type": "display_data"
    }
   ],
   "source": [
    "plt.hist([len(s) for s in sentence_sci_tr], bins=50, alpha=0.5)\n",
    "plt.title('Token per sentence')\n",
    "plt.xlabel('Len (number of token)')\n",
    "plt.ylabel('# samples')\n",
    "plt.show()"
   ]
  },
  {
   "cell_type": "markdown",
   "metadata": {
    "id": "fBR5R4UAQ80D"
   },
   "source": [
    "## 2. Models"
   ]
  },
  {
   "cell_type": "markdown",
   "metadata": {
    "id": "AeZduQUBQ80D"
   },
   "source": [
    "### 1.HMM - Base line"
   ]
  },
  {
   "cell_type": "markdown",
   "metadata": {
    "id": "zmEoB73fQ80E"
   },
   "source": [
    "The code was developped for base line accuracy\n",
    "\n",
    "To run the code for both data sets:\n",
    "```\n",
    "python hmm_midterm_demo/hmm_tagger_conll2000.py\n",
    "python hmm_midterm_demo/hmm_tagger_science_exam_cer.py\n",
    "```\n",
    "\n",
    "for conll2000\n",
    "\n",
    "<img src=\"hmm_midterm_demo\\hmm_conll2000_logs.png\">\n",
    "\n",
    "for scienceEXAM\n",
    "\n",
    "<img src=\"hmm_midterm_demo\\hmm_scienceEXAM_logs.png\">\n"
   ]
  },
  {
   "cell_type": "markdown",
   "metadata": {
    "id": "b8d-qwkPQ80E"
   },
   "source": [
    "### 2.CRF"
   ]
  },
  {
   "cell_type": "code",
   "execution_count": null,
   "metadata": {
    "id": "DtRTh5HvQ80E"
   },
   "outputs": [],
   "source": [
    "# prepare test set\n",
    "\n",
    "X_test_1 = [sent2features(s) for s in sentence_conll_test]\n",
    "y_test_1 = [sent2labels(s) for s in sentence_conll_test]\n",
    "\n",
    "X_test_2 = [sent2features(s) for s in sentence_sci_test]\n",
    "y_test_2 = [sent2labels(s) for s in sentence_sci_test]"
   ]
  },
  {
   "cell_type": "code",
   "execution_count": null,
   "metadata": {
    "id": "Xc6mq4AAQ80E"
   },
   "outputs": [],
   "source": [
    "crf_conll = joblib.load(\"CRF/crf_conll2000.joblib\")\n",
    "crf_science = joblib.load(\"CRF/crf_scienceEXAM.joblib\")"
   ]
  },
  {
   "cell_type": "code",
   "execution_count": null,
   "metadata": {
    "id": "7DgYU1lHQ80E",
    "outputId": "fb71a821-0e7c-4920-9719-5d5717f12094"
   },
   "outputs": [
    {
     "data": {
      "text/plain": [
       "[['B-NP',\n",
       "  'I-NP',\n",
       "  'I-NP',\n",
       "  'B-NP',\n",
       "  'I-NP',\n",
       "  'I-NP',\n",
       "  'B-VP',\n",
       "  'B-NP',\n",
       "  'B-VP',\n",
       "  'B-NP',\n",
       "  'I-NP',\n",
       "  'I-NP',\n",
       "  'B-VP',\n",
       "  'B-NP',\n",
       "  'I-NP',\n",
       "  'B-PP',\n",
       "  'B-NP',\n",
       "  'I-NP',\n",
       "  'B-VP',\n",
       "  'I-VP',\n",
       "  'B-NP',\n",
       "  'I-NP',\n",
       "  'B-PP',\n",
       "  'B-NP',\n",
       "  'B-NP',\n",
       "  'I-NP',\n",
       "  'I-NP',\n",
       "  'O']]"
      ]
     },
     "execution_count": 53,
     "metadata": {
      "tags": []
     },
     "output_type": "execute_result"
    }
   ],
   "source": [
    "# predict\n",
    "crf_conll.predict(X_test_1[0:1])"
   ]
  },
  {
   "cell_type": "markdown",
   "metadata": {
    "id": "o62cfgbVQ80E"
   },
   "source": [
    "#### Results-CRF"
   ]
  },
  {
   "cell_type": "code",
   "execution_count": null,
   "metadata": {
    "id": "9bRuILvkQ80F",
    "outputId": "f7d6eae7-f039-42fa-f496-3d7a9a94de5a"
   },
   "outputs": [
    {
     "name": "stdout",
     "output_type": "stream",
     "text": [
      "              precision    recall  f1-score   support\n",
      "\n",
      "      B-ADJP      0.794     0.758     0.776       438\n",
      "      B-ADVP      0.848     0.804     0.825       866\n",
      "     B-CONJP      0.455     0.556     0.500         9\n",
      "      B-INTJ      1.000     1.000     1.000         2\n",
      "       B-LST      0.000     0.000     0.000         5\n",
      "        B-NP      0.965     0.965     0.965     12422\n",
      "        B-PP      0.964     0.976     0.970      4811\n",
      "       B-PRT      0.757     0.821     0.787       106\n",
      "      B-SBAR      0.865     0.824     0.844       535\n",
      "        B-VP      0.959     0.957     0.958      4658\n",
      "      I-ADJP      0.800     0.695     0.744       167\n",
      "      I-ADVP      0.643     0.607     0.624        89\n",
      "     I-CONJP      0.625     0.769     0.690        13\n",
      "       I-LST      0.000     0.000     0.000         2\n",
      "        I-NP      0.963     0.963     0.963     14376\n",
      "        I-PP      0.717     0.688     0.702        48\n",
      "      I-SBAR      0.176     0.750     0.286         4\n",
      "        I-VP      0.946     0.958     0.952      2646\n",
      "           O      0.956     0.958     0.957      6180\n",
      "\n",
      "    accuracy                          0.955     47377\n",
      "   macro avg      0.707     0.739     0.713     47377\n",
      "weighted avg      0.954     0.955     0.954     47377\n",
      "\n",
      "Ave Accuray: 0.9545349009012812\n",
      "Ave Precision: 0.9543510377045232\n",
      "Ave Recall: 0.9545349009012812\n",
      "Ave F1-score: 0.9543811851929961\n"
     ]
    }
   ],
   "source": [
    "# for conll2000\n",
    "pred_conll = crf_conll.predict(X_test_1)\n",
    "print(metrics.flat_classification_report(\n",
    "        y_test_1, pred_conll, labels=labels_conll, digits=3\n",
    "    ))\n",
    "print(\"Ave Accuray:\", metrics.flat_accuracy_score(y_test_1, pred_conll))\n",
    "print(\"Ave Precision:\", metrics.flat_precision_score(y_test_1, pred_conll, average='weighted', labels=labels_conll))\n",
    "print(\"Ave Recall:\", metrics.flat_recall_score(y_test_1, pred_conll, average='weighted', labels=labels_conll))\n",
    "print(\"Ave F1-score:\", metrics.flat_f1_score(y_test_1, pred_conll, average='weighted', labels=labels_conll))"
   ]
  },
  {
   "cell_type": "code",
   "execution_count": null,
   "metadata": {
    "id": "qACke70uQ80F",
    "outputId": "d93e1e88-1197-4625-e7fc-88d323b8e791"
   },
   "outputs": [
    {
     "name": "stdout",
     "output_type": "stream",
     "text": [
      "Ave Accuray: 0.8425619717911755\n",
      "Ave Precision: 0.8397306778799688\n",
      "Ave Recall: 0.8425619717911755\n",
      "Ave F1-score: 0.8361435928375092\n"
     ]
    }
   ],
   "source": [
    "# for scienceEAAM\n",
    "pred_sci = crf_science.predict(X_test_2)\n",
    "print(\"Ave Accuray:\", metrics.flat_accuracy_score(y_test_2, pred_sci))\n",
    "print(\"Ave Precision:\", metrics.flat_precision_score(y_test_2, pred_sci, average='weighted', labels=labels_sci))\n",
    "print(\"Ave Recall:\", metrics.flat_recall_score(y_test_2, pred_sci, average='weighted', labels=labels_sci))\n",
    "print(\"Ave F1-score:\", metrics.flat_f1_score(y_test_2, pred_sci, average='weighted', labels=labels_sci))"
   ]
  },
  {
   "cell_type": "markdown",
   "metadata": {
    "id": "1WAXIbe7Q80F"
   },
   "source": [
    "#### Demo to Train CRF"
   ]
  },
  {
   "cell_type": "code",
   "execution_count": null,
   "metadata": {
    "id": "zFJ4T8fHQ80F"
   },
   "outputs": [],
   "source": [
    "X_train_1 = [sent2features(s) for s in sentence_conll_tr]\n",
    "y_train_1 = [sent2labels(s) for s in sentence_conll_tr]"
   ]
  },
  {
   "cell_type": "code",
   "execution_count": null,
   "metadata": {
    "id": "lD-qhpe1Q80F",
    "outputId": "67686a2d-f6fd-42d9-b03a-f3f2eab1199b"
   },
   "outputs": [
    {
     "data": {
      "text/plain": [
       "CRF(algorithm='lbfgs', all_possible_transitions=True, c1=0.1, c2=0.1,\n",
       "    keep_tempfiles=None, max_iterations=100)"
      ]
     },
     "execution_count": 76,
     "metadata": {
      "tags": []
     },
     "output_type": "execute_result"
    }
   ],
   "source": [
    "crf = sklearn_crfsuite.CRF(\n",
    "        algorithm='lbfgs',\n",
    "        c1=0.1,\n",
    "        c2=0.1,\n",
    "        max_iterations=100,\n",
    "        all_possible_transitions=True\n",
    "    )\n",
    "crf.fit(X_train_1, y_train_1)"
   ]
  },
  {
   "cell_type": "markdown",
   "metadata": {
    "id": "2WYHWA7CQ80G"
   },
   "source": [
    "### 3. LSTM+CRF"
   ]
  },
  {
   "cell_type": "markdown",
   "metadata": {
    "id": "zcV16qeSQ80G"
   },
   "source": [
    "To train the Neural Network and get results:\n",
    "\n",
    "```\n",
    "python LSTM_CRF\\lstm_crf_tagger_conll2000.py\n",
    "python LSTM_CRF\\lstm_crf_tagger_science_exam_cer.py\n",
    "```"
   ]
  },
  {
   "cell_type": "markdown",
   "metadata": {
    "id": "3ihg2LikQ80G"
   },
   "source": [
    "The overall training time for scienceEXAM dataset is about 8 hours, we will skip for demo"
   ]
  },
  {
   "cell_type": "markdown",
   "metadata": {
    "id": "FWpz6IKqQ80G"
   },
   "source": [
    "#### for conll 2000\n",
    "training process over loss\n",
    "\n",
    "<img src=\"LSTM_CRF\\conll2000_mask_loss.png\">\n",
    "\n",
    "training process over accuracy\n",
    "\n",
    "<img src=\"LSTM_CRF\\conll2000_mask_accuracy.png\">"
   ]
  },
  {
   "cell_type": "markdown",
   "metadata": {
    "id": "oykhTh3gQ80G"
   },
   "source": [
    "#### for science Exam\n",
    "training process over loss\n",
    "\n",
    "<img src=\"LSTM_CRF\\science_exam_cer_mask_40_loss.png\">\n",
    "\n",
    "training process over accuracy\n",
    "\n",
    "<img src=\"LSTM_CRF\\science_exam_cer_mask_40_accuracy.png\">"
   ]
  },
  {
   "cell_type": "markdown",
   "metadata": {},
   "source": [
    "#### Results\n",
    "**conll**\n",
    "\n",
    "<img src=\"LSTM_CRF\\conll_log.png\">\n",
    "\n",
    "**scienceEXAM**\n",
    "\n",
    "<img src=\"LSTM_CRF\\sci_log1.png\">\n",
    "<img src=\"LSTM_CRF\\sci_log2.png\">"
   ]
  },
  {
   "cell_type": "markdown",
   "metadata": {
    "id": "K9-JB8zMQ80G"
   },
   "source": [
    "#### 4. BERT"
   ]
  },
  {
   "cell_type": "markdown",
   "metadata": {
    "id": "uhBM6cJsQ80H"
   },
   "source": [
    "To train the model\n",
    "```\n",
    "python /BERT/bert_conll2000.py\n",
    "python /BERT/bert_scienceEXAM.py\n",
    "```"
   ]
  },
  {
   "cell_type": "code",
   "execution_count": 22,
   "metadata": {
    "colab": {
     "base_uri": "https://localhost:8080/",
     "height": 359
    },
    "id": "sclucBYSTvqh",
    "outputId": "09545d67-ff14-483a-ead7-10ed6e4757af"
   },
   "outputs": [
    {
     "data": {
      "text/html": [
       "<div>\n",
       "<style scoped>\n",
       "    .dataframe tbody tr th:only-of-type {\n",
       "        vertical-align: middle;\n",
       "    }\n",
       "\n",
       "    .dataframe tbody tr th {\n",
       "        vertical-align: top;\n",
       "    }\n",
       "\n",
       "    .dataframe thead th {\n",
       "        text-align: right;\n",
       "    }\n",
       "</style>\n",
       "<table border=\"1\" class=\"dataframe\">\n",
       "  <thead>\n",
       "    <tr style=\"text-align: right;\">\n",
       "      <th></th>\n",
       "      <th>sentence_id</th>\n",
       "      <th>words</th>\n",
       "      <th>labels</th>\n",
       "    </tr>\n",
       "  </thead>\n",
       "  <tbody>\n",
       "    <tr>\n",
       "      <th>0</th>\n",
       "      <td>0</td>\n",
       "      <td>Confidence</td>\n",
       "      <td>B-NP</td>\n",
       "    </tr>\n",
       "    <tr>\n",
       "      <th>1</th>\n",
       "      <td>0</td>\n",
       "      <td>in</td>\n",
       "      <td>B-PP</td>\n",
       "    </tr>\n",
       "    <tr>\n",
       "      <th>2</th>\n",
       "      <td>0</td>\n",
       "      <td>the</td>\n",
       "      <td>B-NP</td>\n",
       "    </tr>\n",
       "    <tr>\n",
       "      <th>3</th>\n",
       "      <td>0</td>\n",
       "      <td>pound</td>\n",
       "      <td>I-NP</td>\n",
       "    </tr>\n",
       "    <tr>\n",
       "      <th>4</th>\n",
       "      <td>0</td>\n",
       "      <td>is</td>\n",
       "      <td>B-VP</td>\n",
       "    </tr>\n",
       "    <tr>\n",
       "      <th>5</th>\n",
       "      <td>0</td>\n",
       "      <td>widely</td>\n",
       "      <td>I-VP</td>\n",
       "    </tr>\n",
       "    <tr>\n",
       "      <th>6</th>\n",
       "      <td>0</td>\n",
       "      <td>expected</td>\n",
       "      <td>I-VP</td>\n",
       "    </tr>\n",
       "    <tr>\n",
       "      <th>7</th>\n",
       "      <td>0</td>\n",
       "      <td>to</td>\n",
       "      <td>I-VP</td>\n",
       "    </tr>\n",
       "    <tr>\n",
       "      <th>8</th>\n",
       "      <td>0</td>\n",
       "      <td>take</td>\n",
       "      <td>I-VP</td>\n",
       "    </tr>\n",
       "    <tr>\n",
       "      <th>9</th>\n",
       "      <td>0</td>\n",
       "      <td>another</td>\n",
       "      <td>B-NP</td>\n",
       "    </tr>\n",
       "  </tbody>\n",
       "</table>\n",
       "</div>"
      ],
      "text/plain": [
       "   sentence_id       words labels\n",
       "0            0  Confidence   B-NP\n",
       "1            0          in   B-PP\n",
       "2            0         the   B-NP\n",
       "3            0       pound   I-NP\n",
       "4            0          is   B-VP\n",
       "5            0      widely   I-VP\n",
       "6            0    expected   I-VP\n",
       "7            0          to   I-VP\n",
       "8            0        take   I-VP\n",
       "9            0     another   B-NP"
      ]
     },
     "execution_count": 22,
     "metadata": {
      "tags": []
     },
     "output_type": "execute_result"
    }
   ],
   "source": [
    "test_bert_conll2000 = get_bert_test_conll()\r\n",
    "test_bert_conll2000[0:10]"
   ]
  },
  {
   "cell_type": "code",
   "execution_count": 21,
   "metadata": {
    "colab": {
     "base_uri": "https://localhost:8080/",
     "height": 359
    },
    "id": "k885F4lzWKbk",
    "outputId": "a94c2bac-b31c-4129-8513-55f94827b914"
   },
   "outputs": [
    {
     "data": {
      "text/html": [
       "<div>\n",
       "<style scoped>\n",
       "    .dataframe tbody tr th:only-of-type {\n",
       "        vertical-align: middle;\n",
       "    }\n",
       "\n",
       "    .dataframe tbody tr th {\n",
       "        vertical-align: top;\n",
       "    }\n",
       "\n",
       "    .dataframe thead th {\n",
       "        text-align: right;\n",
       "    }\n",
       "</style>\n",
       "<table border=\"1\" class=\"dataframe\">\n",
       "  <thead>\n",
       "    <tr style=\"text-align: right;\">\n",
       "      <th></th>\n",
       "      <th>sentence_id</th>\n",
       "      <th>words</th>\n",
       "      <th>labels</th>\n",
       "    </tr>\n",
       "  </thead>\n",
       "  <tbody>\n",
       "    <tr>\n",
       "      <th>0</th>\n",
       "      <td>0</td>\n",
       "      <td>Which</td>\n",
       "      <td>B-LevelOfInclusion</td>\n",
       "    </tr>\n",
       "    <tr>\n",
       "      <th>1</th>\n",
       "      <td>0</td>\n",
       "      <td>instrument</td>\n",
       "      <td>B-ScientificTools</td>\n",
       "    </tr>\n",
       "    <tr>\n",
       "      <th>2</th>\n",
       "      <td>0</td>\n",
       "      <td>measures</td>\n",
       "      <td>B-Examine</td>\n",
       "    </tr>\n",
       "    <tr>\n",
       "      <th>3</th>\n",
       "      <td>0</td>\n",
       "      <td>atmospheric</td>\n",
       "      <td>B-Pressure</td>\n",
       "    </tr>\n",
       "    <tr>\n",
       "      <th>4</th>\n",
       "      <td>0</td>\n",
       "      <td>pressure</td>\n",
       "      <td>I-Pressure</td>\n",
       "    </tr>\n",
       "    <tr>\n",
       "      <th>5</th>\n",
       "      <td>0</td>\n",
       "      <td>?</td>\n",
       "      <td>O</td>\n",
       "    </tr>\n",
       "    <tr>\n",
       "      <th>6</th>\n",
       "      <td>1</td>\n",
       "      <td>barometer</td>\n",
       "      <td>B-PressureMeasuringTool</td>\n",
       "    </tr>\n",
       "    <tr>\n",
       "      <th>7</th>\n",
       "      <td>2</td>\n",
       "      <td>hygrometer</td>\n",
       "      <td>B-ScientificTools</td>\n",
       "    </tr>\n",
       "    <tr>\n",
       "      <th>8</th>\n",
       "      <td>3</td>\n",
       "      <td>thermometer</td>\n",
       "      <td>B-TemperatureMeasuringTools</td>\n",
       "    </tr>\n",
       "    <tr>\n",
       "      <th>9</th>\n",
       "      <td>4</td>\n",
       "      <td>magnetometer</td>\n",
       "      <td>B-MagneticDevice</td>\n",
       "    </tr>\n",
       "  </tbody>\n",
       "</table>\n",
       "</div>"
      ],
      "text/plain": [
       "   sentence_id         words                       labels\n",
       "0            0         Which           B-LevelOfInclusion\n",
       "1            0    instrument            B-ScientificTools\n",
       "2            0      measures                    B-Examine\n",
       "3            0   atmospheric                   B-Pressure\n",
       "4            0      pressure                   I-Pressure\n",
       "5            0             ?                            O\n",
       "6            1     barometer      B-PressureMeasuringTool\n",
       "7            2    hygrometer            B-ScientificTools\n",
       "8            3   thermometer  B-TemperatureMeasuringTools\n",
       "9            4  magnetometer             B-MagneticDevice"
      ]
     },
     "execution_count": 21,
     "metadata": {
      "tags": []
     },
     "output_type": "execute_result"
    }
   ],
   "source": [
    "test_bert_sci = get_bert_test_sci()\r\n",
    "test_bert_sci[0:10]"
   ]
  },
  {
   "cell_type": "code",
   "execution_count": 6,
   "metadata": {
    "id": "CoJ9FoliRDBK"
   },
   "outputs": [],
   "source": [
    "bert_conll = joblib.load(\"conll2000_bert.joblib\")\r\n",
    "bert_sci = joblib.load(\"ScienceExam_bert.joblib\")"
   ]
  },
  {
   "cell_type": "code",
   "execution_count": 60,
   "metadata": {
    "colab": {
     "base_uri": "https://localhost:8080/",
     "height": 115,
     "referenced_widgets": [
      "f70808cf18244060aff48b6991685f3d",
      "8dfd8df1284242d59f569650350e3d43",
      "ad16e3bb6081483b8bf30cc6a3bb7ffc",
      "27777cfcb9824109a9b944eb8c2e3812",
      "36f10852bd764dc1adfa6f95a5c837bf",
      "9d314b5d0f344648afe3af775c5df6ae",
      "6809e11399ae4b41a89986f98cdd74d4",
      "2904fa8bc57a443ea4ccc088894788ba",
      "cec8f36a94da4749adc41340e5ef1947",
      "c3e51a221a3c459ca7b8a6cb270ef3ca",
      "d2b4344496fd42dd8a9fa6fc35ba1cd7",
      "199cedd17cb94d2484e1836c97961b56",
      "b18d3d862e5843108f286bdbc02ced1d",
      "f54e28e6738549d3b212fdfb9f0f9b30",
      "67594c69579f4593922711fbfc3f6993",
      "74c2522c2c0946e9bb9f08920316fe87",
      "fa82e6ea31424436aff89cc6085feb7a",
      "40a96d86c9274c588275fb0c74b69b67",
      "25f308de9cba4e9eb2cd97c20d8c1115",
      "4180d06695264a5681935e7f17679afe",
      "2ac68588533948b69cca72815a0dd957",
      "dc8b0b2776a944648ccc0e7196e93f84"
     ]
    },
    "id": "GGp2P--wam2J",
    "outputId": "087bbba9-d176-4f47-d35c-1e465042142f"
   },
   "outputs": [
    {
     "data": {
      "application/vnd.jupyter.widget-view+json": {
       "model_id": "f70808cf18244060aff48b6991685f3d",
       "version_major": 2,
       "version_minor": 0
      },
      "text/plain": [
       "HBox(children=(HTML(value=''), FloatProgress(value=0.0, max=8724.0), HTML(value='')))"
      ]
     },
     "metadata": {
      "tags": []
     },
     "output_type": "display_data"
    },
    {
     "name": "stdout",
     "output_type": "stream",
     "text": [
      "\n"
     ]
    },
    {
     "data": {
      "application/vnd.jupyter.widget-view+json": {
       "model_id": "199cedd17cb94d2484e1836c97961b56",
       "version_major": 2,
       "version_minor": 0
      },
      "text/plain": [
       "HBox(children=(HTML(value='Running Evaluation'), FloatProgress(value=0.0, max=1091.0), HTML(value='')))"
      ]
     },
     "metadata": {
      "tags": []
     },
     "output_type": "display_data"
    },
    {
     "name": "stdout",
     "output_type": "stream",
     "text": [
      "\n"
     ]
    }
   ],
   "source": [
    "conll_result, conll_model_outputs, conll_predictions = bert_conll.eval_model(test_bert_conll2000)"
   ]
  },
  {
   "cell_type": "code",
   "execution_count": 85,
   "metadata": {
    "colab": {
     "base_uri": "https://localhost:8080/"
    },
    "id": "WCqSoebxdKIE",
    "outputId": "87c85503-f0f9-4eee-9338-79d53b7a6185"
   },
   "outputs": [
    {
     "name": "stdout",
     "output_type": "stream",
     "text": [
      "0.987233544595381\n"
     ]
    },
    {
     "data": {
      "text/plain": [
       "{'eval_loss': 0.05550454550859792,\n",
       " 'f1_score': 0.9800122269356593,\n",
       " 'precision': 0.9785189741295758,\n",
       " 'recall': 0.9815100442151117}"
      ]
     },
     "execution_count": 85,
     "metadata": {
      "tags": []
     },
     "output_type": "execute_result"
    }
   ],
   "source": [
    "print(metrics.flat_accuracy_score(y_test_1, conll_predictions))\r\n",
    "conll_result"
   ]
  },
  {
   "cell_type": "code",
   "execution_count": 12,
   "metadata": {
    "colab": {
     "base_uri": "https://localhost:8080/",
     "height": 115,
     "referenced_widgets": [
      "14225a19924c4730929e46283eef1db0",
      "5f503809846343b9bdebdb92f335976e",
      "f20ad938d23e46098524751f0606bfe0",
      "69876b696eaf437bb712dd517e62a391",
      "6a81a7f4cf5c4d5cb2af56547129ac09",
      "8fca117062c74e9c9c3f96bd75362661",
      "a85cab1fadc643d59b17fd6a301cbd72",
      "460c8741b6bb432f80cb4b61ac75a2bb",
      "45a8c3c232914a5a88a2217cc92919ab",
      "ba20a4e97ae2489d9c7475fb39354a80",
      "21a6a3c109ca47deb8327db1bda97047",
      "a24a9128e2dd4979be8999679ad8ee9f",
      "719fae4c9c7c459e8a4a80eabd459de1",
      "5a4352cb51ea45dfa18c85c455be1c6a",
      "24d877bee21646f187c61e021adf068a",
      "b73c515eba804a79b675784ed4134751",
      "2f399aa5e2334b7eb09618fa2b2bd561",
      "83806473c34f4d67a23a6df409ad2b6e",
      "27ee4331e81b4e1698c00972e850ec1d",
      "f954c9d6af0d4f9b94a085589c9f7126",
      "72368aefccc249eb8046d7fe62bb2ee8",
      "91862d28c7ea47d5b7c7645f81f74309"
     ]
    },
    "id": "J4Sn75RrRm_b",
    "outputId": "a6d0c5f8-b57b-4e2b-fde5-ffe8c56c4832"
   },
   "outputs": [
    {
     "data": {
      "application/vnd.jupyter.widget-view+json": {
       "model_id": "14225a19924c4730929e46283eef1db0",
       "version_major": 2,
       "version_minor": 0
      },
      "text/plain": [
       "HBox(children=(HTML(value=''), FloatProgress(value=0.0, max=4923.0), HTML(value='')))"
      ]
     },
     "metadata": {
      "tags": []
     },
     "output_type": "display_data"
    },
    {
     "name": "stdout",
     "output_type": "stream",
     "text": [
      "\n"
     ]
    },
    {
     "data": {
      "application/vnd.jupyter.widget-view+json": {
       "model_id": "a24a9128e2dd4979be8999679ad8ee9f",
       "version_major": 2,
       "version_minor": 0
      },
      "text/plain": [
       "HBox(children=(HTML(value='Running Evaluation'), FloatProgress(value=0.0, max=616.0), HTML(value='')))"
      ]
     },
     "metadata": {
      "tags": []
     },
     "output_type": "display_data"
    },
    {
     "name": "stdout",
     "output_type": "stream",
     "text": [
      "\n"
     ]
    }
   ],
   "source": [
    "sci_result, sci_model_outputs, sci_predictions = bert_sci.eval_model(test_bert_sci)"
   ]
  },
  {
   "cell_type": "code",
   "execution_count": 67,
   "metadata": {
    "colab": {
     "base_uri": "https://localhost:8080/"
    },
    "id": "A750yqt9aXCY",
    "outputId": "cdd91778-87b5-4e1a-b1b7-845c14d6ce75"
   },
   "outputs": [
    {
     "name": "stdout",
     "output_type": "stream",
     "text": [
      "0.7579354984595381\n"
     ]
    },
    {
     "data": {
      "text/plain": [
       "{'eval_loss': 1.153413181568121,\n",
       " 'f1_score': 0.7311242245422908,\n",
       " 'precision': 0.7104688287682742,\n",
       " 'recall': 0.7530166080413198}"
      ]
     },
     "execution_count": 67,
     "metadata": {
      "tags": []
     },
     "output_type": "execute_result"
    }
   ],
   "source": [
    "print(metrics.flat_accuracy_score(y_test_2, sci_predictions))\r\n",
    "sci_result"
   ]
  },
  {
   "cell_type": "markdown",
   "metadata": {
    "id": "ff91QVsTQ80H"
   },
   "source": [
    "## 3. Results"
   ]
  },
  {
   "cell_type": "markdown",
   "metadata": {},
   "source": [
    "#### 3.1 Conll 2000"
   ]
  },
  {
   "cell_type": "code",
   "execution_count": 22,
   "metadata": {},
   "outputs": [],
   "source": [
    "base_line_acc = 0.89\n",
    "\n",
    "crf_acc = 0.95\n",
    "crf_precision = 0.9543510377045232\n",
    "crf_recall = 0.9545349009012812\n",
    "crf_f1 = 0.9543811851929961\n",
    "\n",
    "lstmcrf_acc = 0.922262\n",
    "lstmcrf_precision = 0.92\n",
    "lstmcrf_recall = 0.92\n",
    "lstmcrf_f1 = 0.92\n",
    "\n",
    "bert_acc = 0.987233544595381\n",
    "bert_precision = 0.9785189741295758\n",
    "bert_recall = 0.9815100442151117\n",
    "bert_f1 = 0.9800122269356593"
   ]
  },
  {
   "cell_type": "code",
   "execution_count": 29,
   "metadata": {},
   "outputs": [],
   "source": [
    "acc_g = [base_line_acc, crf_acc, lstmcrf_acc, bert_acc]\n",
    "precision_g = [0, crf_precision, lstmcrf_precision, bert_precision]\n",
    "recall_g = [0, crf_recall, lstmcrf_recall, bert_recall]\n",
    "f1_g = [0, crf_f1, lstmcrf_f1, bert_f1]\n",
    "\n",
    "graph = [acc_g, precision_g, recall_g, f1_g]"
   ]
  },
  {
   "cell_type": "code",
   "execution_count": 35,
   "metadata": {},
   "outputs": [],
   "source": [
    "x = np.arange(4)\n",
    "total_width, n = 0.8, 4\n",
    "width = total_width / n\n",
    "x = x - (total_width - width) / 2"
   ]
  },
  {
   "cell_type": "code",
   "execution_count": 43,
   "metadata": {},
   "outputs": [
    {
     "data": {
      "image/png": "[encoded data removed]",
      "text/plain": [
       "<Figure size 7500x4000 with 1 Axes>"
      ]
     },
     "metadata": {
      "needs_background": "light"
     },
     "output_type": "display_data"
    }
   ],
   "source": [
    "X = np.arange(4)\n",
    "\n",
    "names = [\"HMM\", \"CRF\", \"LSTM+CRF\", \"BERT\"]\n",
    "\n",
    "plt.bar(x, graph[0], color = 'b', width = 0.25, label=\"Accuracy\")\n",
    "plt.bar(x + width, graph[1], color = 'g', width = 0.25, label=\"Precision\", tick_label=names)\n",
    "plt.bar(x + 2*width, graph[2], color = 'r', width = 0.25, label=\"Recall\")\n",
    "plt.bar(x + 3*width, graph[3], color = 'y', width = 0.25, label=\"F1-Score\")\n",
    "plt.xticks()\n",
    "plt.legend(loc=\"upper left\")\n",
    "plt.xlabel(\"Metrics\")\n",
    "plt.ylabel(\"Score\")\n",
    "plt.rcParams['savefig.dpi'] = 500\n",
    "plt.rcParams['figure.dpi'] = 500\n",
    "plt.rcParams['figure.figsize'] = (15.0, 8.0)\n",
    "\n",
    "plt.show()"
   ]
  },
  {
   "cell_type": "markdown",
   "metadata": {},
   "source": [
    "#### 3.2 ScienceEXAM"
   ]
  },
  {
   "cell_type": "code",
   "execution_count": 44,
   "metadata": {},
   "outputs": [],
   "source": [
    "base_line_acc = 0.794313\n",
    "\n",
    "crf_acc = 0.8425619717911755\n",
    "crf_precision = 0.8397306778799688\n",
    "crf_recall = 0.8425619717911755\n",
    "crf_f1 = 0.8361435928375092\n",
    "\n",
    "\n",
    "lstmcrf_acc = 0.810792\n",
    "lstmcrf_precision = 0.83\n",
    "lstmcrf_recall = 0.81\n",
    "lstmcrf_f1 = 0.81\n",
    "\n",
    "bert_acc = 0.7579354984595381\n",
    "bert_precision = 0.7311242245422908\n",
    "bert_recall = 0.7104688287682742\n",
    "bert_f1 = 0.7530166080413198"
   ]
  },
  {
   "cell_type": "code",
   "execution_count": 45,
   "metadata": {},
   "outputs": [],
   "source": [
    "acc_g = [base_line_acc, crf_acc, lstmcrf_acc, bert_acc]\n",
    "precision_g = [0, crf_precision, lstmcrf_precision, bert_precision]\n",
    "recall_g = [0, crf_recall, lstmcrf_recall, bert_recall]\n",
    "f1_g = [0, crf_f1, lstmcrf_f1, bert_f1]\n",
    "\n",
    "graph = [acc_g, precision_g, recall_g, f1_g]"
   ]
  },
  {
   "cell_type": "code",
   "execution_count": 46,
   "metadata": {},
   "outputs": [
    {
     "data": {
      "image/png": "[encoded data removed]",
      "text/plain": [
       "<Figure size 7500x4000 with 1 Axes>"
      ]
     },
     "metadata": {
      "needs_background": "light"
     },
     "output_type": "display_data"
    }
   ],
   "source": [
    "X = np.arange(4)\n",
    "\n",
    "names = [\"HMM\", \"CRF\", \"LSTM+CRF\", \"BERT\"]\n",
    "\n",
    "plt.bar(x, graph[0], color = 'b', width = 0.25, label=\"Accuracy\")\n",
    "plt.bar(x + width, graph[1], color = 'g', width = 0.25, label=\"Precision\", tick_label=names)\n",
    "plt.bar(x + 2*width, graph[2], color = 'r', width = 0.25, label=\"Recall\")\n",
    "plt.bar(x + 3*width, graph[3], color = 'y', width = 0.25, label=\"F1-Score\")\n",
    "plt.xticks()\n",
    "plt.legend(loc=\"upper left\")\n",
    "plt.xlabel(\"Metrics\")\n",
    "plt.ylabel(\"Score\")\n",
    "plt.rcParams['savefig.dpi'] = 500\n",
    "plt.rcParams['figure.dpi'] = 500\n",
    "plt.rcParams['figure.figsize'] = (15.0, 8.0)\n",
    "\n",
    "plt.show()"
   ]
  }
 ],
 "metadata": {
  "accelerator": "GPU",
  "colab": {
   "name": "Project_Presentation_Pipeline.ipynb",
   "provenance": [],
   "toc_visible": true
  },
  "kernelspec": {
   "display_name": "Python 3",
   "language": "python",
   "name": "python3"
  },
  "language_info": {
   "codemirror_mode": {
    "name": "ipython",
    "version": 3
   },
   "file_extension": ".py",
   "mimetype": "text/x-python",
   "name": "python",
   "nbconvert_exporter": "python",
   "pygments_lexer": "ipython3",
   "version": "3.7.3"
  },
  "widgets": {
   "application/vnd.jupyter.widget-state+json": {
    "14225a19924c4730929e46283eef1db0": {
     "model_module": "@jupyter-widgets/controls",
     "model_name": "HBoxModel",
     "state": {
      "_dom_classes": [],
      "_model_module": "@jupyter-widgets/controls",
      "_model_module_version": "1.5.0",
      "_model_name": "HBoxModel",
      "_view_count": null,
      "_view_module": "@jupyter-widgets/controls",
      "_view_module_version": "1.5.0",
      "_view_name": "HBoxView",
      "box_style": "",
      "children": [
       "IPY_MODEL_f20ad938d23e46098524751f0606bfe0",
       "IPY_MODEL_69876b696eaf437bb712dd517e62a391",
       "IPY_MODEL_6a81a7f4cf5c4d5cb2af56547129ac09"
      ],
      "layout": "IPY_MODEL_5f503809846343b9bdebdb92f335976e"
     }
    },
    "199cedd17cb94d2484e1836c97961b56": {
     "model_module": "@jupyter-widgets/controls",
     "model_name": "HBoxModel",
     "state": {
      "_dom_classes": [],
      "_model_module": "@jupyter-widgets/controls",
      "_model_module_version": "1.5.0",
      "_model_name": "HBoxModel",
      "_view_count": null,
      "_view_module": "@jupyter-widgets/controls",
      "_view_module_version": "1.5.0",
      "_view_name": "HBoxView",
      "box_style": "",
      "children": [
       "IPY_MODEL_f54e28e6738549d3b212fdfb9f0f9b30",
       "IPY_MODEL_67594c69579f4593922711fbfc3f6993",
       "IPY_MODEL_74c2522c2c0946e9bb9f08920316fe87"
      ],
      "layout": "IPY_MODEL_b18d3d862e5843108f286bdbc02ced1d"
     }
    },
    "21a6a3c109ca47deb8327db1bda97047": {
     "model_module": "@jupyter-widgets/base",
     "model_name": "LayoutModel",
     "state": {
      "_model_module": "@jupyter-widgets/base",
      "_model_module_version": "1.2.0",
      "_model_name": "LayoutModel",
      "_view_count": null,
      "_view_module": "@jupyter-widgets/base",
      "_view_module_version": "1.2.0",
      "_view_name": "LayoutView",
      "align_content": null,
      "align_items": null,
      "align_self": null,
      "border": null,
      "bottom": null,
      "display": null,
      "flex": null,
      "flex_flow": null,
      "grid_area": null,
      "grid_auto_columns": null,
      "grid_auto_flow": null,
      "grid_auto_rows": null,
      "grid_column": null,
      "grid_gap": null,
      "grid_row": null,
      "grid_template_areas": null,
      "grid_template_columns": null,
      "grid_template_rows": null,
      "height": null,
      "justify_content": null,
      "justify_items": null,
      "left": null,
      "margin": null,
      "max_height": null,
      "max_width": null,
      "min_height": null,
      "min_width": null,
      "object_fit": null,
      "object_position": null,
      "order": null,
      "overflow": null,
      "overflow_x": null,
      "overflow_y": null,
      "padding": null,
      "right": null,
      "top": null,
      "visibility": null,
      "width": null
     }
    },
    "24d877bee21646f187c61e021adf068a": {
     "model_module": "@jupyter-widgets/controls",
     "model_name": "FloatProgressModel",
     "state": {
      "_dom_classes": [],
      "_model_module": "@jupyter-widgets/controls",
      "_model_module_version": "1.5.0",
      "_model_name": "FloatProgressModel",
      "_view_count": null,
      "_view_module": "@jupyter-widgets/controls",
      "_view_module_version": "1.5.0",
      "_view_name": "ProgressView",
      "bar_style": "success",
      "description": "",
      "description_tooltip": null,
      "layout": "IPY_MODEL_f954c9d6af0d4f9b94a085589c9f7126",
      "max": 616,
      "min": 0,
      "orientation": "horizontal",
      "style": "IPY_MODEL_27ee4331e81b4e1698c00972e850ec1d",
      "value": 616
     }
    },
    "25f308de9cba4e9eb2cd97c20d8c1115": {
     "model_module": "@jupyter-widgets/controls",
     "model_name": "ProgressStyleModel",
     "state": {
      "_model_module": "@jupyter-widgets/controls",
      "_model_module_version": "1.5.0",
      "_model_name": "ProgressStyleModel",
      "_view_count": null,
      "_view_module": "@jupyter-widgets/base",
      "_view_module_version": "1.2.0",
      "_view_name": "StyleView",
      "bar_color": null,
      "description_width": ""
     }
    },
    "27777cfcb9824109a9b944eb8c2e3812": {
     "model_module": "@jupyter-widgets/controls",
     "model_name": "FloatProgressModel",
     "state": {
      "_dom_classes": [],
      "_model_module": "@jupyter-widgets/controls",
      "_model_module_version": "1.5.0",
      "_model_name": "FloatProgressModel",
      "_view_count": null,
      "_view_module": "@jupyter-widgets/controls",
      "_view_module_version": "1.5.0",
      "_view_name": "ProgressView",
      "bar_style": "success",
      "description": "",
      "description_tooltip": null,
      "layout": "IPY_MODEL_cec8f36a94da4749adc41340e5ef1947",
      "max": 8724,
      "min": 0,
      "orientation": "horizontal",
      "style": "IPY_MODEL_2904fa8bc57a443ea4ccc088894788ba",
      "value": 8724
     }
    },
    "27ee4331e81b4e1698c00972e850ec1d": {
     "model_module": "@jupyter-widgets/controls",
     "model_name": "ProgressStyleModel",
     "state": {
      "_model_module": "@jupyter-widgets/controls",
      "_model_module_version": "1.5.0",
      "_model_name": "ProgressStyleModel",
      "_view_count": null,
      "_view_module": "@jupyter-widgets/base",
      "_view_module_version": "1.2.0",
      "_view_name": "StyleView",
      "bar_color": null,
      "description_width": ""
     }
    },
    "2904fa8bc57a443ea4ccc088894788ba": {
     "model_module": "@jupyter-widgets/controls",
     "model_name": "ProgressStyleModel",
     "state": {
      "_model_module": "@jupyter-widgets/controls",
      "_model_module_version": "1.5.0",
      "_model_name": "ProgressStyleModel",
      "_view_count": null,
      "_view_module": "@jupyter-widgets/base",
      "_view_module_version": "1.2.0",
      "_view_name": "StyleView",
      "bar_color": null,
      "description_width": ""
     }
    },
    "2ac68588533948b69cca72815a0dd957": {
     "model_module": "@jupyter-widgets/controls",
     "model_name": "DescriptionStyleModel",
     "state": {
      "_model_module": "@jupyter-widgets/controls",
      "_model_module_version": "1.5.0",
      "_model_name": "DescriptionStyleModel",
      "_view_count": null,
      "_view_module": "@jupyter-widgets/base",
      "_view_module_version": "1.2.0",
      "_view_name": "StyleView",
      "description_width": ""
     }
    },
    "2f399aa5e2334b7eb09618fa2b2bd561": {
     "model_module": "@jupyter-widgets/controls",
     "model_name": "DescriptionStyleModel",
     "state": {
      "_model_module": "@jupyter-widgets/controls",
      "_model_module_version": "1.5.0",
      "_model_name": "DescriptionStyleModel",
      "_view_count": null,
      "_view_module": "@jupyter-widgets/base",
      "_view_module_version": "1.2.0",
      "_view_name": "StyleView",
      "description_width": ""
     }
    },
    "36f10852bd764dc1adfa6f95a5c837bf": {
     "model_module": "@jupyter-widgets/controls",
     "model_name": "HTMLModel",
     "state": {
      "_dom_classes": [],
      "_model_module": "@jupyter-widgets/controls",
      "_model_module_version": "1.5.0",
      "_model_name": "HTMLModel",
      "_view_count": null,
      "_view_module": "@jupyter-widgets/controls",
      "_view_module_version": "1.5.0",
      "_view_name": "HTMLView",
      "description": "",
      "description_tooltip": null,
      "layout": "IPY_MODEL_d2b4344496fd42dd8a9fa6fc35ba1cd7",
      "placeholder": "​",
      "style": "IPY_MODEL_c3e51a221a3c459ca7b8a6cb270ef3ca",
      "value": " 8724/8724 [00:52&lt;00:00, 164.88it/s]"
     }
    },
    "40a96d86c9274c588275fb0c74b69b67": {
     "model_module": "@jupyter-widgets/base",
     "model_name": "LayoutModel",
     "state": {
      "_model_module": "@jupyter-widgets/base",
      "_model_module_version": "1.2.0",
      "_model_name": "LayoutModel",
      "_view_count": null,
      "_view_module": "@jupyter-widgets/base",
      "_view_module_version": "1.2.0",
      "_view_name": "LayoutView",
      "align_content": null,
      "align_items": null,
      "align_self": null,
      "border": null,
      "bottom": null,
      "display": null,
      "flex": null,
      "flex_flow": null,
      "grid_area": null,
      "grid_auto_columns": null,
      "grid_auto_flow": null,
      "grid_auto_rows": null,
      "grid_column": null,
      "grid_gap": null,
      "grid_row": null,
      "grid_template_areas": null,
      "grid_template_columns": null,
      "grid_template_rows": null,
      "height": null,
      "justify_content": null,
      "justify_items": null,
      "left": null,
      "margin": null,
      "max_height": null,
      "max_width": null,
      "min_height": null,
      "min_width": null,
      "object_fit": null,
      "object_position": null,
      "order": null,
      "overflow": null,
      "overflow_x": null,
      "overflow_y": null,
      "padding": null,
      "right": null,
      "top": null,
      "visibility": null,
      "width": null
     }
    },
    "4180d06695264a5681935e7f17679afe": {
     "model_module": "@jupyter-widgets/base",
     "model_name": "LayoutModel",
     "state": {
      "_model_module": "@jupyter-widgets/base",
      "_model_module_version": "1.2.0",
      "_model_name": "LayoutModel",
      "_view_count": null,
      "_view_module": "@jupyter-widgets/base",
      "_view_module_version": "1.2.0",
      "_view_name": "LayoutView",
      "align_content": null,
      "align_items": null,
      "align_self": null,
      "border": null,
      "bottom": null,
      "display": null,
      "flex": null,
      "flex_flow": null,
      "grid_area": null,
      "grid_auto_columns": null,
      "grid_auto_flow": null,
      "grid_auto_rows": null,
      "grid_column": null,
      "grid_gap": null,
      "grid_row": null,
      "grid_template_areas": null,
      "grid_template_columns": null,
      "grid_template_rows": null,
      "height": null,
      "justify_content": null,
      "justify_items": null,
      "left": null,
      "margin": null,
      "max_height": null,
      "max_width": null,
      "min_height": null,
      "min_width": null,
      "object_fit": null,
      "object_position": null,
      "order": null,
      "overflow": null,
      "overflow_x": null,
      "overflow_y": null,
      "padding": null,
      "right": null,
      "top": null,
      "visibility": null,
      "width": null
     }
    },
    "45a8c3c232914a5a88a2217cc92919ab": {
     "model_module": "@jupyter-widgets/base",
     "model_name": "LayoutModel",
     "state": {
      "_model_module": "@jupyter-widgets/base",
      "_model_module_version": "1.2.0",
      "_model_name": "LayoutModel",
      "_view_count": null,
      "_view_module": "@jupyter-widgets/base",
      "_view_module_version": "1.2.0",
      "_view_name": "LayoutView",
      "align_content": null,
      "align_items": null,
      "align_self": null,
      "border": null,
      "bottom": null,
      "display": null,
      "flex": null,
      "flex_flow": null,
      "grid_area": null,
      "grid_auto_columns": null,
      "grid_auto_flow": null,
      "grid_auto_rows": null,
      "grid_column": null,
      "grid_gap": null,
      "grid_row": null,
      "grid_template_areas": null,
      "grid_template_columns": null,
      "grid_template_rows": null,
      "height": null,
      "justify_content": null,
      "justify_items": null,
      "left": null,
      "margin": null,
      "max_height": null,
      "max_width": null,
      "min_height": null,
      "min_width": null,
      "object_fit": null,
      "object_position": null,
      "order": null,
      "overflow": null,
      "overflow_x": null,
      "overflow_y": null,
      "padding": null,
      "right": null,
      "top": null,
      "visibility": null,
      "width": null
     }
    },
    "460c8741b6bb432f80cb4b61ac75a2bb": {
     "model_module": "@jupyter-widgets/controls",
     "model_name": "ProgressStyleModel",
     "state": {
      "_model_module": "@jupyter-widgets/controls",
      "_model_module_version": "1.5.0",
      "_model_name": "ProgressStyleModel",
      "_view_count": null,
      "_view_module": "@jupyter-widgets/base",
      "_view_module_version": "1.2.0",
      "_view_name": "StyleView",
      "bar_color": null,
      "description_width": ""
     }
    },
    "5a4352cb51ea45dfa18c85c455be1c6a": {
     "model_module": "@jupyter-widgets/controls",
     "model_name": "HTMLModel",
     "state": {
      "_dom_classes": [],
      "_model_module": "@jupyter-widgets/controls",
      "_model_module_version": "1.5.0",
      "_model_name": "HTMLModel",
      "_view_count": null,
      "_view_module": "@jupyter-widgets/controls",
      "_view_module_version": "1.5.0",
      "_view_name": "HTMLView",
      "description": "",
      "description_tooltip": null,
      "layout": "IPY_MODEL_83806473c34f4d67a23a6df409ad2b6e",
      "placeholder": "​",
      "style": "IPY_MODEL_2f399aa5e2334b7eb09618fa2b2bd561",
      "value": "Running Evaluation: 100%"
     }
    },
    "5f503809846343b9bdebdb92f335976e": {
     "model_module": "@jupyter-widgets/base",
     "model_name": "LayoutModel",
     "state": {
      "_model_module": "@jupyter-widgets/base",
      "_model_module_version": "1.2.0",
      "_model_name": "LayoutModel",
      "_view_count": null,
      "_view_module": "@jupyter-widgets/base",
      "_view_module_version": "1.2.0",
      "_view_name": "LayoutView",
      "align_content": null,
      "align_items": null,
      "align_self": null,
      "border": null,
      "bottom": null,
      "display": null,
      "flex": null,
      "flex_flow": null,
      "grid_area": null,
      "grid_auto_columns": null,
      "grid_auto_flow": null,
      "grid_auto_rows": null,
      "grid_column": null,
      "grid_gap": null,
      "grid_row": null,
      "grid_template_areas": null,
      "grid_template_columns": null,
      "grid_template_rows": null,
      "height": null,
      "justify_content": null,
      "justify_items": null,
      "left": null,
      "margin": null,
      "max_height": null,
      "max_width": null,
      "min_height": null,
      "min_width": null,
      "object_fit": null,
      "object_position": null,
      "order": null,
      "overflow": null,
      "overflow_x": null,
      "overflow_y": null,
      "padding": null,
      "right": null,
      "top": null,
      "visibility": null,
      "width": null
     }
    },
    "67594c69579f4593922711fbfc3f6993": {
     "model_module": "@jupyter-widgets/controls",
     "model_name": "FloatProgressModel",
     "state": {
      "_dom_classes": [],
      "_model_module": "@jupyter-widgets/controls",
      "_model_module_version": "1.5.0",
      "_model_name": "FloatProgressModel",
      "_view_count": null,
      "_view_module": "@jupyter-widgets/controls",
      "_view_module_version": "1.5.0",
      "_view_name": "ProgressView",
      "bar_style": "success",
      "description": "",
      "description_tooltip": null,
      "layout": "IPY_MODEL_4180d06695264a5681935e7f17679afe",
      "max": 1091,
      "min": 0,
      "orientation": "horizontal",
      "style": "IPY_MODEL_25f308de9cba4e9eb2cd97c20d8c1115",
      "value": 1091
     }
    },
    "6809e11399ae4b41a89986f98cdd74d4": {
     "model_module": "@jupyter-widgets/base",
     "model_name": "LayoutModel",
     "state": {
      "_model_module": "@jupyter-widgets/base",
      "_model_module_version": "1.2.0",
      "_model_name": "LayoutModel",
      "_view_count": null,
      "_view_module": "@jupyter-widgets/base",
      "_view_module_version": "1.2.0",
      "_view_name": "LayoutView",
      "align_content": null,
      "align_items": null,
      "align_self": null,
      "border": null,
      "bottom": null,
      "display": null,
      "flex": null,
      "flex_flow": null,
      "grid_area": null,
      "grid_auto_columns": null,
      "grid_auto_flow": null,
      "grid_auto_rows": null,
      "grid_column": null,
      "grid_gap": null,
      "grid_row": null,
      "grid_template_areas": null,
      "grid_template_columns": null,
      "grid_template_rows": null,
      "height": null,
      "justify_content": null,
      "justify_items": null,
      "left": null,
      "margin": null,
      "max_height": null,
      "max_width": null,
      "min_height": null,
      "min_width": null,
      "object_fit": null,
      "object_position": null,
      "order": null,
      "overflow": null,
      "overflow_x": null,
      "overflow_y": null,
      "padding": null,
      "right": null,
      "top": null,
      "visibility": null,
      "width": null
     }
    },
    "69876b696eaf437bb712dd517e62a391": {
     "model_module": "@jupyter-widgets/controls",
     "model_name": "FloatProgressModel",
     "state": {
      "_dom_classes": [],
      "_model_module": "@jupyter-widgets/controls",
      "_model_module_version": "1.5.0",
      "_model_name": "FloatProgressModel",
      "_view_count": null,
      "_view_module": "@jupyter-widgets/controls",
      "_view_module_version": "1.5.0",
      "_view_name": "ProgressView",
      "bar_style": "success",
      "description": "",
      "description_tooltip": null,
      "layout": "IPY_MODEL_45a8c3c232914a5a88a2217cc92919ab",
      "max": 4923,
      "min": 0,
      "orientation": "horizontal",
      "style": "IPY_MODEL_460c8741b6bb432f80cb4b61ac75a2bb",
      "value": 4923
     }
    },
    "6a81a7f4cf5c4d5cb2af56547129ac09": {
     "model_module": "@jupyter-widgets/controls",
     "model_name": "HTMLModel",
     "state": {
      "_dom_classes": [],
      "_model_module": "@jupyter-widgets/controls",
      "_model_module_version": "1.5.0",
      "_model_name": "HTMLModel",
      "_view_count": null,
      "_view_module": "@jupyter-widgets/controls",
      "_view_module_version": "1.5.0",
      "_view_name": "HTMLView",
      "description": "",
      "description_tooltip": null,
      "layout": "IPY_MODEL_21a6a3c109ca47deb8327db1bda97047",
      "placeholder": "​",
      "style": "IPY_MODEL_ba20a4e97ae2489d9c7475fb39354a80",
      "value": " 4923/4923 [02:12&lt;00:00, 37.14it/s]"
     }
    },
    "719fae4c9c7c459e8a4a80eabd459de1": {
     "model_module": "@jupyter-widgets/base",
     "model_name": "LayoutModel",
     "state": {
      "_model_module": "@jupyter-widgets/base",
      "_model_module_version": "1.2.0",
      "_model_name": "LayoutModel",
      "_view_count": null,
      "_view_module": "@jupyter-widgets/base",
      "_view_module_version": "1.2.0",
      "_view_name": "LayoutView",
      "align_content": null,
      "align_items": null,
      "align_self": null,
      "border": null,
      "bottom": null,
      "display": null,
      "flex": null,
      "flex_flow": null,
      "grid_area": null,
      "grid_auto_columns": null,
      "grid_auto_flow": null,
      "grid_auto_rows": null,
      "grid_column": null,
      "grid_gap": null,
      "grid_row": null,
      "grid_template_areas": null,
      "grid_template_columns": null,
      "grid_template_rows": null,
      "height": null,
      "justify_content": null,
      "justify_items": null,
      "left": null,
      "margin": null,
      "max_height": null,
      "max_width": null,
      "min_height": null,
      "min_width": null,
      "object_fit": null,
      "object_position": null,
      "order": null,
      "overflow": null,
      "overflow_x": null,
      "overflow_y": null,
      "padding": null,
      "right": null,
      "top": null,
      "visibility": null,
      "width": null
     }
    },
    "72368aefccc249eb8046d7fe62bb2ee8": {
     "model_module": "@jupyter-widgets/controls",
     "model_name": "DescriptionStyleModel",
     "state": {
      "_model_module": "@jupyter-widgets/controls",
      "_model_module_version": "1.5.0",
      "_model_name": "DescriptionStyleModel",
      "_view_count": null,
      "_view_module": "@jupyter-widgets/base",
      "_view_module_version": "1.2.0",
      "_view_name": "StyleView",
      "description_width": ""
     }
    },
    "74c2522c2c0946e9bb9f08920316fe87": {
     "model_module": "@jupyter-widgets/controls",
     "model_name": "HTMLModel",
     "state": {
      "_dom_classes": [],
      "_model_module": "@jupyter-widgets/controls",
      "_model_module_version": "1.5.0",
      "_model_name": "HTMLModel",
      "_view_count": null,
      "_view_module": "@jupyter-widgets/controls",
      "_view_module_version": "1.5.0",
      "_view_name": "HTMLView",
      "description": "",
      "description_tooltip": null,
      "layout": "IPY_MODEL_dc8b0b2776a944648ccc0e7196e93f84",
      "placeholder": "​",
      "style": "IPY_MODEL_2ac68588533948b69cca72815a0dd957",
      "value": " 1091/1091 [00:41&lt;00:00, 26.32it/s]"
     }
    },
    "83806473c34f4d67a23a6df409ad2b6e": {
     "model_module": "@jupyter-widgets/base",
     "model_name": "LayoutModel",
     "state": {
      "_model_module": "@jupyter-widgets/base",
      "_model_module_version": "1.2.0",
      "_model_name": "LayoutModel",
      "_view_count": null,
      "_view_module": "@jupyter-widgets/base",
      "_view_module_version": "1.2.0",
      "_view_name": "LayoutView",
      "align_content": null,
      "align_items": null,
      "align_self": null,
      "border": null,
      "bottom": null,
      "display": null,
      "flex": null,
      "flex_flow": null,
      "grid_area": null,
      "grid_auto_columns": null,
      "grid_auto_flow": null,
      "grid_auto_rows": null,
      "grid_column": null,
      "grid_gap": null,
      "grid_row": null,
      "grid_template_areas": null,
      "grid_template_columns": null,
      "grid_template_rows": null,
      "height": null,
      "justify_content": null,
      "justify_items": null,
      "left": null,
      "margin": null,
      "max_height": null,
      "max_width": null,
      "min_height": null,
      "min_width": null,
      "object_fit": null,
      "object_position": null,
      "order": null,
      "overflow": null,
      "overflow_x": null,
      "overflow_y": null,
      "padding": null,
      "right": null,
      "top": null,
      "visibility": null,
      "width": null
     }
    },
    "8dfd8df1284242d59f569650350e3d43": {
     "model_module": "@jupyter-widgets/base",
     "model_name": "LayoutModel",
     "state": {
      "_model_module": "@jupyter-widgets/base",
      "_model_module_version": "1.2.0",
      "_model_name": "LayoutModel",
      "_view_count": null,
      "_view_module": "@jupyter-widgets/base",
      "_view_module_version": "1.2.0",
      "_view_name": "LayoutView",
      "align_content": null,
      "align_items": null,
      "align_self": null,
      "border": null,
      "bottom": null,
      "display": null,
      "flex": null,
      "flex_flow": null,
      "grid_area": null,
      "grid_auto_columns": null,
      "grid_auto_flow": null,
      "grid_auto_rows": null,
      "grid_column": null,
      "grid_gap": null,
      "grid_row": null,
      "grid_template_areas": null,
      "grid_template_columns": null,
      "grid_template_rows": null,
      "height": null,
      "justify_content": null,
      "justify_items": null,
      "left": null,
      "margin": null,
      "max_height": null,
      "max_width": null,
      "min_height": null,
      "min_width": null,
      "object_fit": null,
      "object_position": null,
      "order": null,
      "overflow": null,
      "overflow_x": null,
      "overflow_y": null,
      "padding": null,
      "right": null,
      "top": null,
      "visibility": null,
      "width": null
     }
    },
    "8fca117062c74e9c9c3f96bd75362661": {
     "model_module": "@jupyter-widgets/controls",
     "model_name": "DescriptionStyleModel",
     "state": {
      "_model_module": "@jupyter-widgets/controls",
      "_model_module_version": "1.5.0",
      "_model_name": "DescriptionStyleModel",
      "_view_count": null,
      "_view_module": "@jupyter-widgets/base",
      "_view_module_version": "1.2.0",
      "_view_name": "StyleView",
      "description_width": ""
     }
    },
    "91862d28c7ea47d5b7c7645f81f74309": {
     "model_module": "@jupyter-widgets/base",
     "model_name": "LayoutModel",
     "state": {
      "_model_module": "@jupyter-widgets/base",
      "_model_module_version": "1.2.0",
      "_model_name": "LayoutModel",
      "_view_count": null,
      "_view_module": "@jupyter-widgets/base",
      "_view_module_version": "1.2.0",
      "_view_name": "LayoutView",
      "align_content": null,
      "align_items": null,
      "align_self": null,
      "border": null,
      "bottom": null,
      "display": null,
      "flex": null,
      "flex_flow": null,
      "grid_area": null,
      "grid_auto_columns": null,
      "grid_auto_flow": null,
      "grid_auto_rows": null,
      "grid_column": null,
      "grid_gap": null,
      "grid_row": null,
      "grid_template_areas": null,
      "grid_template_columns": null,
      "grid_template_rows": null,
      "height": null,
      "justify_content": null,
      "justify_items": null,
      "left": null,
      "margin": null,
      "max_height": null,
      "max_width": null,
      "min_height": null,
      "min_width": null,
      "object_fit": null,
      "object_position": null,
      "order": null,
      "overflow": null,
      "overflow_x": null,
      "overflow_y": null,
      "padding": null,
      "right": null,
      "top": null,
      "visibility": null,
      "width": null
     }
    },
    "9d314b5d0f344648afe3af775c5df6ae": {
     "model_module": "@jupyter-widgets/controls",
     "model_name": "DescriptionStyleModel",
     "state": {
      "_model_module": "@jupyter-widgets/controls",
      "_model_module_version": "1.5.0",
      "_model_name": "DescriptionStyleModel",
      "_view_count": null,
      "_view_module": "@jupyter-widgets/base",
      "_view_module_version": "1.2.0",
      "_view_name": "StyleView",
      "description_width": ""
     }
    },
    "a24a9128e2dd4979be8999679ad8ee9f": {
     "model_module": "@jupyter-widgets/controls",
     "model_name": "HBoxModel",
     "state": {
      "_dom_classes": [],
      "_model_module": "@jupyter-widgets/controls",
      "_model_module_version": "1.5.0",
      "_model_name": "HBoxModel",
      "_view_count": null,
      "_view_module": "@jupyter-widgets/controls",
      "_view_module_version": "1.5.0",
      "_view_name": "HBoxView",
      "box_style": "",
      "children": [
       "IPY_MODEL_5a4352cb51ea45dfa18c85c455be1c6a",
       "IPY_MODEL_24d877bee21646f187c61e021adf068a",
       "IPY_MODEL_b73c515eba804a79b675784ed4134751"
      ],
      "layout": "IPY_MODEL_719fae4c9c7c459e8a4a80eabd459de1"
     }
    },
    "a85cab1fadc643d59b17fd6a301cbd72": {
     "model_module": "@jupyter-widgets/base",
     "model_name": "LayoutModel",
     "state": {
      "_model_module": "@jupyter-widgets/base",
      "_model_module_version": "1.2.0",
      "_model_name": "LayoutModel",
      "_view_count": null,
      "_view_module": "@jupyter-widgets/base",
      "_view_module_version": "1.2.0",
      "_view_name": "LayoutView",
      "align_content": null,
      "align_items": null,
      "align_self": null,
      "border": null,
      "bottom": null,
      "display": null,
      "flex": null,
      "flex_flow": null,
      "grid_area": null,
      "grid_auto_columns": null,
      "grid_auto_flow": null,
      "grid_auto_rows": null,
      "grid_column": null,
      "grid_gap": null,
      "grid_row": null,
      "grid_template_areas": null,
      "grid_template_columns": null,
      "grid_template_rows": null,
      "height": null,
      "justify_content": null,
      "justify_items": null,
      "left": null,
      "margin": null,
      "max_height": null,
      "max_width": null,
      "min_height": null,
      "min_width": null,
      "object_fit": null,
      "object_position": null,
      "order": null,
      "overflow": null,
      "overflow_x": null,
      "overflow_y": null,
      "padding": null,
      "right": null,
      "top": null,
      "visibility": null,
      "width": null
     }
    },
    "ad16e3bb6081483b8bf30cc6a3bb7ffc": {
     "model_module": "@jupyter-widgets/controls",
     "model_name": "HTMLModel",
     "state": {
      "_dom_classes": [],
      "_model_module": "@jupyter-widgets/controls",
      "_model_module_version": "1.5.0",
      "_model_name": "HTMLModel",
      "_view_count": null,
      "_view_module": "@jupyter-widgets/controls",
      "_view_module_version": "1.5.0",
      "_view_name": "HTMLView",
      "description": "",
      "description_tooltip": null,
      "layout": "IPY_MODEL_6809e11399ae4b41a89986f98cdd74d4",
      "placeholder": "​",
      "style": "IPY_MODEL_9d314b5d0f344648afe3af775c5df6ae",
      "value": "100%"
     }
    },
    "b18d3d862e5843108f286bdbc02ced1d": {
     "model_module": "@jupyter-widgets/base",
     "model_name": "LayoutModel",
     "state": {
      "_model_module": "@jupyter-widgets/base",
      "_model_module_version": "1.2.0",
      "_model_name": "LayoutModel",
      "_view_count": null,
      "_view_module": "@jupyter-widgets/base",
      "_view_module_version": "1.2.0",
      "_view_name": "LayoutView",
      "align_content": null,
      "align_items": null,
      "align_self": null,
      "border": null,
      "bottom": null,
      "display": null,
      "flex": null,
      "flex_flow": null,
      "grid_area": null,
      "grid_auto_columns": null,
      "grid_auto_flow": null,
      "grid_auto_rows": null,
      "grid_column": null,
      "grid_gap": null,
      "grid_row": null,
      "grid_template_areas": null,
      "grid_template_columns": null,
      "grid_template_rows": null,
      "height": null,
      "justify_content": null,
      "justify_items": null,
      "left": null,
      "margin": null,
      "max_height": null,
      "max_width": null,
      "min_height": null,
      "min_width": null,
      "object_fit": null,
      "object_position": null,
      "order": null,
      "overflow": null,
      "overflow_x": null,
      "overflow_y": null,
      "padding": null,
      "right": null,
      "top": null,
      "visibility": null,
      "width": null
     }
    },
    "b73c515eba804a79b675784ed4134751": {
     "model_module": "@jupyter-widgets/controls",
     "model_name": "HTMLModel",
     "state": {
      "_dom_classes": [],
      "_model_module": "@jupyter-widgets/controls",
      "_model_module_version": "1.5.0",
      "_model_name": "HTMLModel",
      "_view_count": null,
      "_view_module": "@jupyter-widgets/controls",
      "_view_module_version": "1.5.0",
      "_view_name": "HTMLView",
      "description": "",
      "description_tooltip": null,
      "layout": "IPY_MODEL_91862d28c7ea47d5b7c7645f81f74309",
      "placeholder": "​",
      "style": "IPY_MODEL_72368aefccc249eb8046d7fe62bb2ee8",
      "value": " 616/616 [02:09&lt;00:00,  4.75it/s]"
     }
    },
    "ba20a4e97ae2489d9c7475fb39354a80": {
     "model_module": "@jupyter-widgets/controls",
     "model_name": "DescriptionStyleModel",
     "state": {
      "_model_module": "@jupyter-widgets/controls",
      "_model_module_version": "1.5.0",
      "_model_name": "DescriptionStyleModel",
      "_view_count": null,
      "_view_module": "@jupyter-widgets/base",
      "_view_module_version": "1.2.0",
      "_view_name": "StyleView",
      "description_width": ""
     }
    },
    "c3e51a221a3c459ca7b8a6cb270ef3ca": {
     "model_module": "@jupyter-widgets/controls",
     "model_name": "DescriptionStyleModel",
     "state": {
      "_model_module": "@jupyter-widgets/controls",
      "_model_module_version": "1.5.0",
      "_model_name": "DescriptionStyleModel",
      "_view_count": null,
      "_view_module": "@jupyter-widgets/base",
      "_view_module_version": "1.2.0",
      "_view_name": "StyleView",
      "description_width": ""
     }
    },
    "cec8f36a94da4749adc41340e5ef1947": {
     "model_module": "@jupyter-widgets/base",
     "model_name": "LayoutModel",
     "state": {
      "_model_module": "@jupyter-widgets/base",
      "_model_module_version": "1.2.0",
      "_model_name": "LayoutModel",
      "_view_count": null,
      "_view_module": "@jupyter-widgets/base",
      "_view_module_version": "1.2.0",
      "_view_name": "LayoutView",
      "align_content": null,
      "align_items": null,
      "align_self": null,
      "border": null,
      "bottom": null,
      "display": null,
      "flex": null,
      "flex_flow": null,
      "grid_area": null,
      "grid_auto_columns": null,
      "grid_auto_flow": null,
      "grid_auto_rows": null,
      "grid_column": null,
      "grid_gap": null,
      "grid_row": null,
      "grid_template_areas": null,
      "grid_template_columns": null,
      "grid_template_rows": null,
      "height": null,
      "justify_content": null,
      "justify_items": null,
      "left": null,
      "margin": null,
      "max_height": null,
      "max_width": null,
      "min_height": null,
      "min_width": null,
      "object_fit": null,
      "object_position": null,
      "order": null,
      "overflow": null,
      "overflow_x": null,
      "overflow_y": null,
      "padding": null,
      "right": null,
      "top": null,
      "visibility": null,
      "width": null
     }
    },
    "d2b4344496fd42dd8a9fa6fc35ba1cd7": {
     "model_module": "@jupyter-widgets/base",
     "model_name": "LayoutModel",
     "state": {
      "_model_module": "@jupyter-widgets/base",
      "_model_module_version": "1.2.0",
      "_model_name": "LayoutModel",
      "_view_count": null,
      "_view_module": "@jupyter-widgets/base",
      "_view_module_version": "1.2.0",
      "_view_name": "LayoutView",
      "align_content": null,
      "align_items": null,
      "align_self": null,
      "border": null,
      "bottom": null,
      "display": null,
      "flex": null,
      "flex_flow": null,
      "grid_area": null,
      "grid_auto_columns": null,
      "grid_auto_flow": null,
      "grid_auto_rows": null,
      "grid_column": null,
      "grid_gap": null,
      "grid_row": null,
      "grid_template_areas": null,
      "grid_template_columns": null,
      "grid_template_rows": null,
      "height": null,
      "justify_content": null,
      "justify_items": null,
      "left": null,
      "margin": null,
      "max_height": null,
      "max_width": null,
      "min_height": null,
      "min_width": null,
      "object_fit": null,
      "object_position": null,
      "order": null,
      "overflow": null,
      "overflow_x": null,
      "overflow_y": null,
      "padding": null,
      "right": null,
      "top": null,
      "visibility": null,
      "width": null
     }
    },
    "dc8b0b2776a944648ccc0e7196e93f84": {
     "model_module": "@jupyter-widgets/base",
     "model_name": "LayoutModel",
     "state": {
      "_model_module": "@jupyter-widgets/base",
      "_model_module_version": "1.2.0",
      "_model_name": "LayoutModel",
      "_view_count": null,
      "_view_module": "@jupyter-widgets/base",
      "_view_module_version": "1.2.0",
      "_view_name": "LayoutView",
      "align_content": null,
      "align_items": null,
      "align_self": null,
      "border": null,
      "bottom": null,
      "display": null,
      "flex": null,
      "flex_flow": null,
      "grid_area": null,
      "grid_auto_columns": null,
      "grid_auto_flow": null,
      "grid_auto_rows": null,
      "grid_column": null,
      "grid_gap": null,
      "grid_row": null,
      "grid_template_areas": null,
      "grid_template_columns": null,
      "grid_template_rows": null,
      "height": null,
      "justify_content": null,
      "justify_items": null,
      "left": null,
      "margin": null,
      "max_height": null,
      "max_width": null,
      "min_height": null,
      "min_width": null,
      "object_fit": null,
      "object_position": null,
      "order": null,
      "overflow": null,
      "overflow_x": null,
      "overflow_y": null,
      "padding": null,
      "right": null,
      "top": null,
      "visibility": null,
      "width": null
     }
    },
    "f20ad938d23e46098524751f0606bfe0": {
     "model_module": "@jupyter-widgets/controls",
     "model_name": "HTMLModel",
     "state": {
      "_dom_classes": [],
      "_model_module": "@jupyter-widgets/controls",
      "_model_module_version": "1.5.0",
      "_model_name": "HTMLModel",
      "_view_count": null,
      "_view_module": "@jupyter-widgets/controls",
      "_view_module_version": "1.5.0",
      "_view_name": "HTMLView",
      "description": "",
      "description_tooltip": null,
      "layout": "IPY_MODEL_a85cab1fadc643d59b17fd6a301cbd72",
      "placeholder": "​",
      "style": "IPY_MODEL_8fca117062c74e9c9c3f96bd75362661",
      "value": "100%"
     }
    },
    "f54e28e6738549d3b212fdfb9f0f9b30": {
     "model_module": "@jupyter-widgets/controls",
     "model_name": "HTMLModel",
     "state": {
      "_dom_classes": [],
      "_model_module": "@jupyter-widgets/controls",
      "_model_module_version": "1.5.0",
      "_model_name": "HTMLModel",
      "_view_count": null,
      "_view_module": "@jupyter-widgets/controls",
      "_view_module_version": "1.5.0",
      "_view_name": "HTMLView",
      "description": "",
      "description_tooltip": null,
      "layout": "IPY_MODEL_40a96d86c9274c588275fb0c74b69b67",
      "placeholder": "​",
      "style": "IPY_MODEL_fa82e6ea31424436aff89cc6085feb7a",
      "value": "Running Evaluation: 100%"
     }
    },
    "f70808cf18244060aff48b6991685f3d": {
     "model_module": "@jupyter-widgets/controls",
     "model_name": "HBoxModel",
     "state": {
      "_dom_classes": [],
      "_model_module": "@jupyter-widgets/controls",
      "_model_module_version": "1.5.0",
      "_model_name": "HBoxModel",
      "_view_count": null,
      "_view_module": "@jupyter-widgets/controls",
      "_view_module_version": "1.5.0",
      "_view_name": "HBoxView",
      "box_style": "",
      "children": [
       "IPY_MODEL_ad16e3bb6081483b8bf30cc6a3bb7ffc",
       "IPY_MODEL_27777cfcb9824109a9b944eb8c2e3812",
       "IPY_MODEL_36f10852bd764dc1adfa6f95a5c837bf"
      ],
      "layout": "IPY_MODEL_8dfd8df1284242d59f569650350e3d43"
     }
    },
    "f954c9d6af0d4f9b94a085589c9f7126": {
     "model_module": "@jupyter-widgets/base",
     "model_name": "LayoutModel",
     "state": {
      "_model_module": "@jupyter-widgets/base",
      "_model_module_version": "1.2.0",
      "_model_name": "LayoutModel",
      "_view_count": null,
      "_view_module": "@jupyter-widgets/base",
      "_view_module_version": "1.2.0",
      "_view_name": "LayoutView",
      "align_content": null,
      "align_items": null,
      "align_self": null,
      "border": null,
      "bottom": null,
      "display": null,
      "flex": null,
      "flex_flow": null,
      "grid_area": null,
      "grid_auto_columns": null,
      "grid_auto_flow": null,
      "grid_auto_rows": null,
      "grid_column": null,
      "grid_gap": null,
      "grid_row": null,
      "grid_template_areas": null,
      "grid_template_columns": null,
      "grid_template_rows": null,
      "height": null,
      "justify_content": null,
      "justify_items": null,
      "left": null,
      "margin": null,
      "max_height": null,
      "max_width": null,
      "min_height": null,
      "min_width": null,
      "object_fit": null,
      "object_position": null,
      "order": null,
      "overflow": null,
      "overflow_x": null,
      "overflow_y": null,
      "padding": null,
      "right": null,
      "top": null,
      "visibility": null,
      "width": null
     }
    },
    "fa82e6ea31424436aff89cc6085feb7a": {
     "model_module": "@jupyter-widgets/controls",
     "model_name": "DescriptionStyleModel",
     "state": {
      "_model_module": "@jupyter-widgets/controls",
      "_model_module_version": "1.5.0",
      "_model_name": "DescriptionStyleModel",
      "_view_count": null,
      "_view_module": "@jupyter-widgets/base",
      "_view_module_version": "1.2.0",
      "_view_name": "StyleView",
      "description_width": ""
     }
    }
   }
  }
 },
 "nbformat": 4,
 "nbformat_minor": 4
}
