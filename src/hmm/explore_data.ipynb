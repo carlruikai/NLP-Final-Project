{
 "metadata": {
  "language_info": {
   "codemirror_mode": {
    "name": "ipython",
    "version": 3
   },
   "file_extension": ".py",
   "mimetype": "text/x-python",
   "name": "python",
   "nbconvert_exporter": "python",
   "pygments_lexer": "ipython3",
   "version": "3.7.6-final"
  },
  "orig_nbformat": 2,
  "kernelspec": {
   "name": "Python 3.7.6 64-bit ('base': conda)",
   "display_name": "Python 3.7.6 64-bit ('base': conda)",
   "metadata": {
    "interpreter": {
     "hash": "274ae7b1ae6bdb01b6edc022f96e68befb0463a18757fe08f3108c854cb76e94"
    }
   }
  }
 },
 "nbformat": 4,
 "nbformat_minor": 2,
 "cells": [
  {
   "cell_type": "code",
   "execution_count": 3,
   "metadata": {},
   "outputs": [],
   "source": [
    "with open('../data/CoNLL-2000/train.txt', \"r\") as f:\n",
    "    lines = f.readlines()"
   ]
  },
  {
   "cell_type": "code",
   "execution_count": 23,
   "metadata": {},
   "outputs": [],
   "source": [
    "idx_list = [i + 1 for i, v in enumerate(lines) if v == '\\n']\n",
    "sentences = []\n",
    "for i, j in zip([0] + idx_list, idx_list + ([len(lines)] if idx_list[-1] != len(lines) else [])):\n",
    "    sentence = []\n",
    "    for line in lines[i: j - 1]:\n",
    "        words = line[:-1].split(' ')\n",
    "        sentence.append(words[0] + '/' + words[2])\n",
    "    sentences.append(' '.join(sentence))"
   ]
  },
  {
   "cell_type": "code",
   "execution_count": 24,
   "metadata": {},
   "outputs": [
    {
     "output_type": "execute_result",
     "data": {
      "text/plain": [
       "[\"Confidence/B-NP in/B-PP the/B-NP pound/I-NP is/B-VP widely/I-VP expected/I-VP to/I-VP take/I-VP another/B-NP sharp/I-NP dive/I-NP if/B-SBAR trade/B-NP figures/I-NP for/B-PP September/B-NP ,/O due/B-ADJP for/B-PP release/B-NP tomorrow/B-NP ,/O fail/B-VP to/I-VP show/I-VP a/B-NP substantial/I-NP improvement/I-NP from/B-PP July/B-NP and/I-NP August/I-NP 's/B-NP near-record/I-NP deficits/I-NP ./O\",\n",
       " \"Chancellor/O of/B-PP the/B-NP Exchequer/I-NP Nigel/B-NP Lawson/I-NP 's/B-NP restated/I-NP commitment/I-NP to/B-PP a/B-NP firm/I-NP monetary/I-NP policy/I-NP has/B-VP helped/I-VP to/I-VP prevent/I-VP a/B-NP freefall/I-NP in/B-PP sterling/B-NP over/B-PP the/B-NP past/I-NP week/I-NP ./O\",\n",
       " \"But/O analysts/B-NP reckon/B-VP underlying/B-NP support/I-NP for/B-PP sterling/B-NP has/B-VP been/I-VP eroded/I-VP by/B-PP the/B-NP chancellor/I-NP 's/B-NP failure/I-NP to/B-VP announce/I-VP any/B-NP new/I-NP policy/I-NP measures/I-NP in/B-PP his/B-NP Mansion/I-NP House/I-NP speech/I-NP last/B-NP Thursday/I-NP ./O\",\n",
       " 'This/B-NP has/B-VP increased/I-VP the/B-NP risk/I-NP of/B-PP the/B-NP government/I-NP being/B-VP forced/I-VP to/I-VP increase/I-VP base/B-NP rates/I-NP to/B-PP 16/B-NP %/I-NP from/B-PP their/B-NP current/I-NP 15/I-NP %/I-NP level/I-NP to/B-VP defend/I-VP the/B-NP pound/I-NP ,/O economists/B-NP and/O foreign/B-NP exchange/I-NP market/I-NP analysts/I-NP say/B-VP ./O',\n",
       " \"``/O The/B-NP risks/I-NP for/B-PP sterling/B-NP of/B-PP a/B-NP bad/I-NP trade/I-NP figure/I-NP are/B-VP very/B-ADVP heavily/I-ADVP on/B-PP the/B-NP down/I-NP side/I-NP ,/O ''/O said/B-VP Chris/B-NP Dillow/I-NP ,/O senior/B-NP U.K./I-NP economist/I-NP at/B-PP Nomura/B-NP Research/I-NP Institute/I-NP ./O\"]"
      ]
     },
     "metadata": {},
     "execution_count": 24
    }
   ],
   "source": [
    "sentences[:5]"
   ]
  },
  {
   "cell_type": "code",
   "execution_count": null,
   "metadata": {},
   "outputs": [],
   "source": []
  }
 ]
}